{
 "cells": [
  {
   "cell_type": "markdown",
   "metadata": {},
   "source": [
    "# Tests for conditional independance (Frequentist)\n"
   ]
  },
  {
   "cell_type": "markdown",
   "metadata": {},
   "source": [
    "For a linear structural model, $Y = \\alpha X + \\beta_1 Z_1 + ... + \\beta_i Z_i$ for each $Z_i$ in the set of variables Z that D-separate X and Y. (ref: Ch. 5, Casuality by Pearl)\n",
    "\n",
    "If $\\alpha = 0$, this implies that Y is independant of X, conditioned on Z. \n",
    "\n",
    "### Algorithm (single door criterion):\n",
    "\n",
    "1. Given a graph with edge between X and Y removed (direct effect), find a set of variables {Z} that D-separate X and Y.\n",
    "2. regress Y on X and {Z}\n",
    "3. take the $\\alpha$ parameter for X as the causal coefficient in the linear structural causal model.\n",
    "4. repeat for each edge in the graph\n",
    "\n",
    "This (or similar algorithm) has been implemented already: https://github.com/y0-causal-inference/eliater/blob/linear-regression/src/eliater/regression.py \n",
    "\n",
    "Now we just need to implement it for our models and data"
   ]
  },
  {
   "cell_type": "code",
   "execution_count": 2,
   "metadata": {},
   "outputs": [
    {
     "name": "stdout",
     "output_type": "stream",
     "text": [
      "Collecting git+https://github.com/y0-causal-inference/eliater.git@linear-regression\n",
      "  Cloning https://github.com/y0-causal-inference/eliater.git (to revision linear-regression) to /private/var/folders/kc/g6x5cwr96dn6lx9m4bq_4m_h0000gn/T/pip-req-build-x85uqzna\n",
      "  Running command git clone --filter=blob:none --quiet https://github.com/y0-causal-inference/eliater.git /private/var/folders/kc/g6x5cwr96dn6lx9m4bq_4m_h0000gn/T/pip-req-build-x85uqzna\n",
      "  Running command git checkout -b linear-regression --track origin/linear-regression\n",
      "  Switched to a new branch 'linear-regression'\n",
      "  branch 'linear-regression' set up to track 'origin/linear-regression'.\n",
      "  Resolved https://github.com/y0-causal-inference/eliater.git to commit 9365c94f168550e452040e76c4d9d0999b8a168c\n",
      "  Installing build dependencies ... \u001b[?25ldone\n",
      "\u001b[?25h  Getting requirements to build wheel ... \u001b[?25ldone\n",
      "\u001b[?25h  Preparing metadata (pyproject.toml) ... \u001b[?25ldone\n",
      "\u001b[?25hINFO: pip is looking at multiple versions of eliater to determine which version is compatible with other requirements. This could take a while.\n",
      "\u001b[31mERROR: Ignored the following versions that require a different python version: 0.2.0 Requires-Python >=3.10; 0.2.1 Requires-Python >=3.10; 0.2.2 Requires-Python >=3.10; 0.2.3 Requires-Python >=3.10; 0.2.4 Requires-Python >=3.10; 0.2.5 Requires-Python >=3.10\u001b[0m\u001b[31m\n",
      "\u001b[0m\u001b[31mERROR: Could not find a version that satisfies the requirement y0>=0.2.3 (from eliater) (from versions: 0.0.1, 0.0.2, 0.0.3, 0.0.4, 0.0.5, 0.1.0)\u001b[0m\u001b[31m\n",
      "\u001b[0m\u001b[31mERROR: No matching distribution found for y0>=0.2.3\u001b[0m\u001b[31m\n",
      "\u001b[0m"
     ]
    }
   ],
   "source": [
    "# !pip install matplotlib\n",
    "# !pip install statsmodels\n",
    "!pip install git+https://github.com/y0-causal-inference/eliater.git@linear-regression\n",
    "\n",
    "\n",
    "\n",
    "\n",
    "#import numpy as np \n",
    "#import networkx as nx\n",
    "#import matplotlib.pyplot as plt\n",
    "#import statsmodels.api as sm\n",
    "\n"
   ]
  },
  {
   "cell_type": "markdown",
   "metadata": {},
   "source": [
    "### Simple 3 variable linear model: \n",
    "\n",
    "Directed graph: \n",
    "\n",
    "X-->Y<--Z<--X\n",
    "\n",
    "Model equations:\n",
    "\n",
    "$Y = \\beta_{xy} X + \\beta_{zy} Z + \\epsilon_{y}$\n",
    "\n",
    "$Z = \\beta_{xz} X + \\epsilon_{z}$\n",
    "\n",
    "For simulations:\n",
    "\n",
    "Let $\\epsilon$ ~ U(0,0.5), X ~ U(0,1), $\\beta_{xy}=2$, $\\beta_{zy}=-1$, $\\beta_{xz}=1.5$"
   ]
  },
  {
   "cell_type": "code",
   "execution_count": 21,
   "metadata": {},
   "outputs": [
    {
     "data": {
      "image/png": "[encoded data removed]",
      "text/plain": [
       "<Figure size 640x480 with 1 Axes>"
      ]
     },
     "metadata": {},
     "output_type": "display_data"
    }
   ],
   "source": [
    "# Creating the causal graph\n",
    "G0 = nx.DiGraph()\n",
    "G0.add_edges_from([('X', 'Y'), ('Z', 'Y'), ('X', 'Z')])\n",
    "\n",
    "# Visualizing the graph\n",
    "pos = nx.spring_layout(G0)\n",
    "nx.draw(G0, pos, with_labels=True, node_size=2000, node_color='lightblue', font_size=15)\n",
    "plt.title(\"3 Variable Causal Graph\")\n",
    "plt.show()"
   ]
  },
  {
   "cell_type": "code",
   "execution_count": 1,
   "metadata": {},
   "outputs": [],
   "source": [
    "# # Generate synthetic data, do linear regression, and plot it\n",
    "\n",
    "# # Set a random seed for reproducibility\n",
    "# np.random.seed(0)\n",
    "\n",
    "# # Generate synthetic data\n",
    "# n = 10000\n",
    "# X = np.random.rand(n)\n",
    "# epsilon_Z = np.random.randn(n) * 0.5  # smaller variance for the error term\n",
    "# epsilon_Y = np.random.randn(n) * 0.5\n",
    "\n",
    "# # Coefficients for the synthetic model\n",
    "# beta_xz = 1.5\n",
    "# beta_xy = 2.0\n",
    "# beta_zy = -1.0\n",
    "\n",
    "# # Generating Z and Y based on the model\n",
    "# Z = beta_xz * X + epsilon_Z\n",
    "# Y = beta_xy * X + beta_zy * Z + epsilon_Y\n",
    "\n",
    "# # Perform linear regression to estimate the beta values\n",
    "\n",
    "# # Prepare the data for regression\n",
    "# XZ = np.column_stack((X, Z))\n",
    "# XZ_with_intercept = sm.add_constant(XZ)  # add an intercept term\n",
    "\n",
    "# # Perform linear regression for Y on X and Z\n",
    "# model_Y = sm.OLS(Y, XZ_with_intercept).fit()\n",
    "\n",
    "# # Extracting estimated coefficients\n",
    "# estimated_beta_xy = model_Y.params[1]  # Coefficient for X\n",
    "# estimated_beta_zy = model_Y.params[2]  # Coefficient for Z\n",
    "\n",
    "# # The coefficient for X in the Z model needs to be estimated separately\n",
    "# model_Z = sm.OLS(Z, sm.add_constant(X)).fit()\n",
    "# estimated_beta_xz = model_Z.params[1]  # Coefficient for X in Z model\n",
    "\n",
    "# # Displaying the estimated coefficients and 95% confidence interval\n",
    "# estimated_beta_xy, estimated_beta_zy, estimated_beta_xz\n",
    "# print(f'estimates: {estimated_beta_xy}, {estimated_beta_zy}, {estimated_beta_xz}')\n",
    "# print(f'true values: {beta_xy}, {beta_zy}, {beta_xz}')\n",
    "# conf_int_Y = model_Y.conf_int(alpha=0.05)  # 95% confidence interval\n",
    "# print(\"Confidence Intervals for Y model:\\n\", conf_int_Y[1:3])\n",
    "# conf_int_Z = model_Z.conf_int(alpha=0.05)  # 95% confidence interval\n",
    "# print(\"\\nConfidence Intervals for Z model:\\n\", conf_int_Z[1])\n",
    "\n",
    "# # Plotting the data\n",
    "# plt.figure(figsize=(12, 6))\n",
    "\n",
    "# # Scatter plot for X and Y\n",
    "# plt.subplot(1, 3, 1)\n",
    "# plt.scatter(X, Y, alpha=0.5)\n",
    "# plt.xlabel('X')\n",
    "# plt.ylabel('Y')\n",
    "# plt.title('Scatter plot of Y vs X')\n",
    "\n",
    "# # Scatter plot for Z and Y\n",
    "# plt.subplot(1, 3, 2)\n",
    "# plt.scatter(Z, Y, alpha=0.5)\n",
    "# plt.xlabel('Z')\n",
    "# plt.ylabel('Y')\n",
    "# plt.title('Scatter plot of Y vs Z')\n",
    "\n",
    "# # Scatter plot for X and Z\n",
    "# plt.subplot(1, 3, 3)\n",
    "# plt.scatter(X, Z, alpha=0.5, color='orange')\n",
    "# plt.xlabel('X')\n",
    "# plt.ylabel('Z')\n",
    "# plt.title('Scatter plot of Z vs X')\n",
    "\n",
    "# plt.tight_layout()\n",
    "# plt.show()"
   ]
  },
  {
   "cell_type": "markdown",
   "metadata": {},
   "source": [
    "\n"
   ]
  },
  {
   "cell_type": "code",
   "execution_count": 27,
   "metadata": {},
   "outputs": [],
   "source": [
    "# from Jeremy\n",
    "import numpy as np\n",
    "import statsmodels.api as sm\n",
    "from scipy.stats import pearsonr\n",
    "from typing import List\n",
    "\n",
    "def get_partial_regression_coefficient(X: List, Y: List, Z: List = []) -> float:\n",
    "    \"\"\"\n",
    "    Calculate the partial regression coefficient between X and Y, controlling for variables in Z.\n",
    "    \n",
    "    :param X: List of values for the independent variable\n",
    "    :param Y: List of values for the dependent variable\n",
    "    :param Z: List of lists, where each inner list is a control variable\n",
    "    :return: Partial regression coefficient\n",
    "    \"\"\"\n",
    "    X = np.array(X)\n",
    "    Y = np.array(Y)\n",
    "    Z = np.column_stack(Z) if Z else np.empty((len(X), 0))\n",
    "\n",
    "    # Add a constant to Z for the regression intercept\n",
    "    Z = sm.add_constant(Z)\n",
    "\n",
    "    # Regress Y on Z and get residuals\n",
    "    model_Y = sm.OLS(Y, Z).fit()\n",
    "    residual_Y = model_Y.resid\n",
    "\n",
    "    # Regress X on Z and get residuals\n",
    "    model_X = sm.OLS(X, Z).fit()\n",
    "    residual_X = model_X.resid\n",
    "\n",
    "    # Calculate the partial correlation coefficient\n",
    "    r_XY_Z, _ = pearsonr(residual_X, residual_Y)\n",
    "\n",
    "    return r_XY_Z\n",
    "\n",
    "# Example usage\n",
    "# X_data = [list of X values]\n",
    "# Y_data = [list of Y values]\n",
    "# Z_data = [[list of Z1 values], [list of Z2 values], ...]\n",
    "# result = get_partial_regression_coefficient(X_data, Y_data, Z_data)"
   ]
  },
  {
   "cell_type": "markdown",
   "metadata": {},
   "source": [
    "# A Bayesian approach to casual inference\n",
    "\n",
    "Use a heirarchical Bayesian model:\n",
    "1. observed model\n",
    "2. conditioned (intervention) model\n",
    "\n",
    "These models are coupled and share nuisance parameters and confounders. From the posterior we can get the credible region of the confounding variables (with an intervention) to check for independance/dependance. \n",
    "\n",
    "Example:\n",
    "\n",
    "UPDATE and write code example\n",
    "\n",
    "\n",
    "X -> Y:   Y = f(X) + epsilon\n",
    "\n",
    "Y' = f(X')  + epsilon\n",
    "Y = f(X) + epsilon\n",
    "\n",
    "X = epsilon_x\n",
    "X' = 3\n",
    "\n",
    "X -> Z -> Y\n",
    "\n",
    "f(X) = a*X\n",
    "\n",
    "a ~ Normal(0, 1)\n",
    "\n",
    "U_xy ~ Laplace(0)\n",
    " X = epsilon_x + U_xy\n",
    "Y = f(X) + epsilon_y + U_xy\n",
    "\n",
    "X, Y, Z ~ true DGP\n",
    "\n",
    "X -> Z -> Y <- U -> X\n",
    "\n",
    "X ~ epsilon_x + U_xy\n",
    "\n",
    "Z ~ g(X) + epsilon_z \n",
    "Y ~ f(Z) + epsilon_y + U_xy\n",
    "\n",
    "U_xy ~ Laplace(0)\n",
    "epsilon_x, y, z ~ Normal(0,1)\n",
    "\n",
    "g(X) = a*X,   a ~ Normal(0, 1)\n",
    "f(Z)  = b*Z,   b ~ Normal(0, 1)\n",
    "\n",
    "X' = 3\n",
    "Z' = g(X') + epsilon_z\n",
    "Y' = f(Z') + epsilon_y + U_xy\n",
    "\n",
    "X' = X.copy()\n",
    "do(X', {X' = 3})\n",
    "\n",
    "Z' = Z.copy()\n"
   ]
  },
  {
   "cell_type": "markdown",
   "metadata": {},
   "source": [
    "### Meenu's model"
   ]
  },
  {
   "cell_type": "code",
   "execution_count": 11,
   "metadata": {},
   "outputs": [
    {
     "data": {
      "image/png": "[encoded data removed]",
      "text/plain": [
       "<Figure size 640x480 with 1 Axes>"
      ]
     },
     "metadata": {},
     "output_type": "display_data"
    }
   ],
   "source": [
    "# graph: X -> R -> S -> T <- U <- V -> Y, T -> P\n",
    "# graph edges:\n",
    "# X -> R\n",
    "# R -> S\n",
    "# S -> T\n",
    "# U -> T\n",
    "# V -> U\n",
    "# V -> Y\n",
    "# T -> P\n",
    "\n",
    "# Create a directed graph\n",
    "G = nx.DiGraph()\n",
    "\n",
    "# Add edges to the graph\n",
    "G.add_edge('X', 'R')\n",
    "G.add_edge('R', 'S')\n",
    "G.add_edge('S', 'T')\n",
    "G.add_edge('U', 'T')\n",
    "G.add_edge('V', 'U')\n",
    "G.add_edge('V', 'Y')\n",
    "G.add_edge('T', 'P')\n",
    "\n",
    "# Define the layout\n",
    "pos = nx.spring_layout(G)\n",
    "\n",
    "# Draw the graph\n",
    "nx.draw(G, pos, with_labels=True, node_color='lightblue', font_weight='bold')\n",
    "plt.show()"
   ]
  },
  {
   "cell_type": "code",
   "execution_count": null,
   "metadata": {},
   "outputs": [],
   "source": [
    "# which data to generate? \n",
    "# software tools for regression analysis"
   ]
  }
 ],
 "metadata": {
  "kernelspec": {
   "display_name": ".venv",
   "language": "python",
   "name": "python3"
  },
  "language_info": {
   "codemirror_mode": {
    "name": "ipython",
    "version": 3
   },
   "file_extension": ".py",
   "mimetype": "text/x-python",
   "name": "python",
   "nbconvert_exporter": "python",
   "pygments_lexer": "ipython3",
   "version": "3.9.6"
  }
 },
 "nbformat": 4,
 "nbformat_minor": 2
}

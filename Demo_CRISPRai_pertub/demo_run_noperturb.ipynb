{
 "cells": [
  {
   "cell_type": "code",
   "execution_count": 1,
   "metadata": {
    "tags": []
   },
   "outputs": [
    {
     "name": "stdout",
     "output_type": "stream",
     "text": [
      "C:\\Users\\moha456\\Anaconda3\\envs\\my_env\n"
     ]
    }
   ],
   "source": [
    "import numpy as np\n",
    "import pandas as pd\n",
    "from sergio import sergio\n",
    "\n",
    "import sys\n",
    "locate_python = sys.exec_prefix\n",
    "print(locate_python)"
   ]
  },
  {
   "cell_type": "code",
   "execution_count": 2,
   "metadata": {
    "tags": []
   },
   "outputs": [
    {
     "name": "stdout",
     "output_type": "stream",
     "text": [
      "My numpy version is:  1.23.1\n"
     ]
    }
   ],
   "source": [
    "print(\"My numpy version is: \", np.__version__)"
   ]
  },
  {
   "cell_type": "markdown",
   "metadata": {},
   "source": [
    "# Run SERGIO"
   ]
  },
  {
   "cell_type": "code",
   "execution_count": 3,
   "metadata": {},
   "outputs": [
    {
     "name": "stdout",
     "output_type": "stream",
     "text": [
      "Start simulating new level\n",
      "There are 4 genes to simulate in this layer\n",
      "Done with current level\n",
      "Start simulating new level\n",
      "There are 6 genes to simulate in this layer\n",
      "Done with current level\n",
      "Start simulating new level\n",
      "There are 90 genes to simulate in this layer\n",
      "Done with current level\n"
     ]
    },
    {
     "data": {
      "text/plain": [
       "array([[ 4.17270032,  7.06277116, 12.04672079, ...,  2.43186517,\n",
       "         3.80522853,  5.17320451],\n",
       "       [ 0.65084038,  1.68489675,  1.6310032 , ...,  1.30904445,\n",
       "         0.79825537,  2.80956254],\n",
       "       [ 1.13787638,  0.08549465,  0.99698709, ...,  1.16441128,\n",
       "         1.53895431,  2.07365252],\n",
       "       [ 3.72821276,  5.88036121,  1.51093267, ...,  1.76231963,\n",
       "         2.60224582,  1.98744161]])"
      ]
     },
     "execution_count": 3,
     "metadata": {},
     "output_type": "execute_result"
    }
   ],
   "source": [
    "sim = sergio(number_genes=100, number_bins = 9, number_sc = 300, noise_params = 1, decays=0.8, sampling_state=15, noise_type='dpd')\n",
    "sim.build_graph(input_file_taregts ='steady-state_input_GRN.txt', input_file_regs='steady-state_input_MRs.txt', shared_coop_state=2)\n",
    "sim.simulate()\n",
    "expr = sim.getExpressions()\n",
    "expr_clean_ss = np.concatenate(expr, axis = 1)\n",
    "expr_clean_ss[1:5]"
   ]
  },
  {
   "cell_type": "code",
   "execution_count": 4,
   "metadata": {},
   "outputs": [
    {
     "data": {
      "text/html": [
       "<div>\n",
       "<style scoped>\n",
       "    .dataframe tbody tr th:only-of-type {\n",
       "        vertical-align: middle;\n",
       "    }\n",
       "\n",
       "    .dataframe tbody tr th {\n",
       "        vertical-align: top;\n",
       "    }\n",
       "\n",
       "    .dataframe thead th {\n",
       "        text-align: right;\n",
       "    }\n",
       "</style>\n",
       "<table border=\"1\" class=\"dataframe\">\n",
       "  <thead>\n",
       "    <tr style=\"text-align: right;\">\n",
       "      <th></th>\n",
       "      <th>0</th>\n",
       "      <th>1</th>\n",
       "      <th>2</th>\n",
       "      <th>3</th>\n",
       "      <th>4</th>\n",
       "      <th>5</th>\n",
       "      <th>6</th>\n",
       "      <th>7</th>\n",
       "      <th>8</th>\n",
       "      <th>9</th>\n",
       "      <th>...</th>\n",
       "      <th>2690</th>\n",
       "      <th>2691</th>\n",
       "      <th>2692</th>\n",
       "      <th>2693</th>\n",
       "      <th>2694</th>\n",
       "      <th>2695</th>\n",
       "      <th>2696</th>\n",
       "      <th>2697</th>\n",
       "      <th>2698</th>\n",
       "      <th>2699</th>\n",
       "    </tr>\n",
       "  </thead>\n",
       "  <tbody>\n",
       "    <tr>\n",
       "      <th>0</th>\n",
       "      <td>5.742781</td>\n",
       "      <td>3.681879</td>\n",
       "      <td>5.949217</td>\n",
       "      <td>6.634987</td>\n",
       "      <td>4.078987</td>\n",
       "      <td>5.032606</td>\n",
       "      <td>5.105771</td>\n",
       "      <td>2.041763</td>\n",
       "      <td>1.916706</td>\n",
       "      <td>5.485587</td>\n",
       "      <td>...</td>\n",
       "      <td>0.640721</td>\n",
       "      <td>2.459189</td>\n",
       "      <td>0.742016</td>\n",
       "      <td>0.636186</td>\n",
       "      <td>1.868894</td>\n",
       "      <td>4.242222</td>\n",
       "      <td>2.772861</td>\n",
       "      <td>3.255742</td>\n",
       "      <td>2.162107</td>\n",
       "      <td>2.436828</td>\n",
       "    </tr>\n",
       "    <tr>\n",
       "      <th>1</th>\n",
       "      <td>4.172700</td>\n",
       "      <td>7.062771</td>\n",
       "      <td>12.046721</td>\n",
       "      <td>8.049915</td>\n",
       "      <td>6.103824</td>\n",
       "      <td>12.470252</td>\n",
       "      <td>5.494164</td>\n",
       "      <td>9.169878</td>\n",
       "      <td>5.577372</td>\n",
       "      <td>7.188532</td>\n",
       "      <td>...</td>\n",
       "      <td>4.313052</td>\n",
       "      <td>2.748536</td>\n",
       "      <td>2.907056</td>\n",
       "      <td>1.020130</td>\n",
       "      <td>1.266793</td>\n",
       "      <td>3.407464</td>\n",
       "      <td>5.191953</td>\n",
       "      <td>2.431865</td>\n",
       "      <td>3.805229</td>\n",
       "      <td>5.173205</td>\n",
       "    </tr>\n",
       "    <tr>\n",
       "      <th>2</th>\n",
       "      <td>0.650840</td>\n",
       "      <td>1.684897</td>\n",
       "      <td>1.631003</td>\n",
       "      <td>3.281255</td>\n",
       "      <td>2.826805</td>\n",
       "      <td>2.459554</td>\n",
       "      <td>0.247129</td>\n",
       "      <td>2.370296</td>\n",
       "      <td>2.623522</td>\n",
       "      <td>2.652369</td>\n",
       "      <td>...</td>\n",
       "      <td>1.268460</td>\n",
       "      <td>0.000000</td>\n",
       "      <td>0.988558</td>\n",
       "      <td>1.333052</td>\n",
       "      <td>0.388661</td>\n",
       "      <td>0.827836</td>\n",
       "      <td>2.492165</td>\n",
       "      <td>1.309044</td>\n",
       "      <td>0.798255</td>\n",
       "      <td>2.809563</td>\n",
       "    </tr>\n",
       "    <tr>\n",
       "      <th>3</th>\n",
       "      <td>1.137876</td>\n",
       "      <td>0.085495</td>\n",
       "      <td>0.996987</td>\n",
       "      <td>1.286907</td>\n",
       "      <td>0.615787</td>\n",
       "      <td>0.719535</td>\n",
       "      <td>0.371324</td>\n",
       "      <td>0.076793</td>\n",
       "      <td>1.791152</td>\n",
       "      <td>2.904399</td>\n",
       "      <td>...</td>\n",
       "      <td>1.351451</td>\n",
       "      <td>0.216266</td>\n",
       "      <td>2.381308</td>\n",
       "      <td>0.011623</td>\n",
       "      <td>1.475167</td>\n",
       "      <td>1.348169</td>\n",
       "      <td>0.980611</td>\n",
       "      <td>1.164411</td>\n",
       "      <td>1.538954</td>\n",
       "      <td>2.073653</td>\n",
       "    </tr>\n",
       "    <tr>\n",
       "      <th>4</th>\n",
       "      <td>3.728213</td>\n",
       "      <td>5.880361</td>\n",
       "      <td>1.510933</td>\n",
       "      <td>5.843811</td>\n",
       "      <td>2.578874</td>\n",
       "      <td>0.786477</td>\n",
       "      <td>2.851539</td>\n",
       "      <td>4.953962</td>\n",
       "      <td>1.196158</td>\n",
       "      <td>9.953144</td>\n",
       "      <td>...</td>\n",
       "      <td>0.280569</td>\n",
       "      <td>0.126349</td>\n",
       "      <td>1.508773</td>\n",
       "      <td>0.415624</td>\n",
       "      <td>0.904260</td>\n",
       "      <td>1.695689</td>\n",
       "      <td>2.682445</td>\n",
       "      <td>1.762320</td>\n",
       "      <td>2.602246</td>\n",
       "      <td>1.987442</td>\n",
       "    </tr>\n",
       "    <tr>\n",
       "      <th>...</th>\n",
       "      <td>...</td>\n",
       "      <td>...</td>\n",
       "      <td>...</td>\n",
       "      <td>...</td>\n",
       "      <td>...</td>\n",
       "      <td>...</td>\n",
       "      <td>...</td>\n",
       "      <td>...</td>\n",
       "      <td>...</td>\n",
       "      <td>...</td>\n",
       "      <td>...</td>\n",
       "      <td>...</td>\n",
       "      <td>...</td>\n",
       "      <td>...</td>\n",
       "      <td>...</td>\n",
       "      <td>...</td>\n",
       "      <td>...</td>\n",
       "      <td>...</td>\n",
       "      <td>...</td>\n",
       "      <td>...</td>\n",
       "      <td>...</td>\n",
       "    </tr>\n",
       "    <tr>\n",
       "      <th>95</th>\n",
       "      <td>3.742263</td>\n",
       "      <td>7.984740</td>\n",
       "      <td>1.361126</td>\n",
       "      <td>1.229594</td>\n",
       "      <td>0.683944</td>\n",
       "      <td>1.578191</td>\n",
       "      <td>4.002056</td>\n",
       "      <td>6.328576</td>\n",
       "      <td>0.870237</td>\n",
       "      <td>5.570494</td>\n",
       "      <td>...</td>\n",
       "      <td>0.818151</td>\n",
       "      <td>2.428066</td>\n",
       "      <td>0.277011</td>\n",
       "      <td>4.652609</td>\n",
       "      <td>4.370747</td>\n",
       "      <td>1.187071</td>\n",
       "      <td>1.602446</td>\n",
       "      <td>4.954746</td>\n",
       "      <td>3.681582</td>\n",
       "      <td>2.125434</td>\n",
       "    </tr>\n",
       "    <tr>\n",
       "      <th>96</th>\n",
       "      <td>5.757358</td>\n",
       "      <td>3.305608</td>\n",
       "      <td>5.100027</td>\n",
       "      <td>4.273794</td>\n",
       "      <td>4.611466</td>\n",
       "      <td>2.270888</td>\n",
       "      <td>4.174557</td>\n",
       "      <td>3.456165</td>\n",
       "      <td>4.712684</td>\n",
       "      <td>3.910054</td>\n",
       "      <td>...</td>\n",
       "      <td>3.212612</td>\n",
       "      <td>1.098460</td>\n",
       "      <td>2.530560</td>\n",
       "      <td>1.560354</td>\n",
       "      <td>1.651840</td>\n",
       "      <td>0.869588</td>\n",
       "      <td>3.874374</td>\n",
       "      <td>1.504029</td>\n",
       "      <td>0.245044</td>\n",
       "      <td>3.032343</td>\n",
       "    </tr>\n",
       "    <tr>\n",
       "      <th>97</th>\n",
       "      <td>4.937538</td>\n",
       "      <td>7.941098</td>\n",
       "      <td>5.703930</td>\n",
       "      <td>4.618157</td>\n",
       "      <td>6.055777</td>\n",
       "      <td>4.816284</td>\n",
       "      <td>4.180223</td>\n",
       "      <td>7.759709</td>\n",
       "      <td>6.312207</td>\n",
       "      <td>4.391117</td>\n",
       "      <td>...</td>\n",
       "      <td>2.749406</td>\n",
       "      <td>7.343569</td>\n",
       "      <td>4.096416</td>\n",
       "      <td>6.802611</td>\n",
       "      <td>3.598192</td>\n",
       "      <td>2.717292</td>\n",
       "      <td>5.662001</td>\n",
       "      <td>3.442603</td>\n",
       "      <td>2.046301</td>\n",
       "      <td>6.406387</td>\n",
       "    </tr>\n",
       "    <tr>\n",
       "      <th>98</th>\n",
       "      <td>4.946284</td>\n",
       "      <td>6.934141</td>\n",
       "      <td>14.460026</td>\n",
       "      <td>6.215145</td>\n",
       "      <td>12.627603</td>\n",
       "      <td>14.948989</td>\n",
       "      <td>4.806217</td>\n",
       "      <td>7.821267</td>\n",
       "      <td>15.117584</td>\n",
       "      <td>8.782147</td>\n",
       "      <td>...</td>\n",
       "      <td>9.700578</td>\n",
       "      <td>9.689161</td>\n",
       "      <td>9.326278</td>\n",
       "      <td>14.256531</td>\n",
       "      <td>12.203686</td>\n",
       "      <td>12.372031</td>\n",
       "      <td>9.331101</td>\n",
       "      <td>8.691783</td>\n",
       "      <td>6.987876</td>\n",
       "      <td>8.948801</td>\n",
       "    </tr>\n",
       "    <tr>\n",
       "      <th>99</th>\n",
       "      <td>4.671982</td>\n",
       "      <td>3.418174</td>\n",
       "      <td>3.497151</td>\n",
       "      <td>5.307996</td>\n",
       "      <td>7.866905</td>\n",
       "      <td>3.059526</td>\n",
       "      <td>7.305430</td>\n",
       "      <td>2.395601</td>\n",
       "      <td>7.853561</td>\n",
       "      <td>3.696743</td>\n",
       "      <td>...</td>\n",
       "      <td>3.073354</td>\n",
       "      <td>6.775658</td>\n",
       "      <td>1.488123</td>\n",
       "      <td>4.699199</td>\n",
       "      <td>4.954837</td>\n",
       "      <td>6.851328</td>\n",
       "      <td>3.678599</td>\n",
       "      <td>4.325447</td>\n",
       "      <td>9.287698</td>\n",
       "      <td>3.061443</td>\n",
       "    </tr>\n",
       "  </tbody>\n",
       "</table>\n",
       "<p>100 rows × 2700 columns</p>\n",
       "</div>"
      ],
      "text/plain": [
       "        0         1          2         3          4          5         6     \\\n",
       "0   5.742781  3.681879   5.949217  6.634987   4.078987   5.032606  5.105771   \n",
       "1   4.172700  7.062771  12.046721  8.049915   6.103824  12.470252  5.494164   \n",
       "2   0.650840  1.684897   1.631003  3.281255   2.826805   2.459554  0.247129   \n",
       "3   1.137876  0.085495   0.996987  1.286907   0.615787   0.719535  0.371324   \n",
       "4   3.728213  5.880361   1.510933  5.843811   2.578874   0.786477  2.851539   \n",
       "..       ...       ...        ...       ...        ...        ...       ...   \n",
       "95  3.742263  7.984740   1.361126  1.229594   0.683944   1.578191  4.002056   \n",
       "96  5.757358  3.305608   5.100027  4.273794   4.611466   2.270888  4.174557   \n",
       "97  4.937538  7.941098   5.703930  4.618157   6.055777   4.816284  4.180223   \n",
       "98  4.946284  6.934141  14.460026  6.215145  12.627603  14.948989  4.806217   \n",
       "99  4.671982  3.418174   3.497151  5.307996   7.866905   3.059526  7.305430   \n",
       "\n",
       "        7          8         9     ...      2690      2691      2692  \\\n",
       "0   2.041763   1.916706  5.485587  ...  0.640721  2.459189  0.742016   \n",
       "1   9.169878   5.577372  7.188532  ...  4.313052  2.748536  2.907056   \n",
       "2   2.370296   2.623522  2.652369  ...  1.268460  0.000000  0.988558   \n",
       "3   0.076793   1.791152  2.904399  ...  1.351451  0.216266  2.381308   \n",
       "4   4.953962   1.196158  9.953144  ...  0.280569  0.126349  1.508773   \n",
       "..       ...        ...       ...  ...       ...       ...       ...   \n",
       "95  6.328576   0.870237  5.570494  ...  0.818151  2.428066  0.277011   \n",
       "96  3.456165   4.712684  3.910054  ...  3.212612  1.098460  2.530560   \n",
       "97  7.759709   6.312207  4.391117  ...  2.749406  7.343569  4.096416   \n",
       "98  7.821267  15.117584  8.782147  ...  9.700578  9.689161  9.326278   \n",
       "99  2.395601   7.853561  3.696743  ...  3.073354  6.775658  1.488123   \n",
       "\n",
       "         2693       2694       2695      2696      2697      2698      2699  \n",
       "0    0.636186   1.868894   4.242222  2.772861  3.255742  2.162107  2.436828  \n",
       "1    1.020130   1.266793   3.407464  5.191953  2.431865  3.805229  5.173205  \n",
       "2    1.333052   0.388661   0.827836  2.492165  1.309044  0.798255  2.809563  \n",
       "3    0.011623   1.475167   1.348169  0.980611  1.164411  1.538954  2.073653  \n",
       "4    0.415624   0.904260   1.695689  2.682445  1.762320  2.602246  1.987442  \n",
       "..        ...        ...        ...       ...       ...       ...       ...  \n",
       "95   4.652609   4.370747   1.187071  1.602446  4.954746  3.681582  2.125434  \n",
       "96   1.560354   1.651840   0.869588  3.874374  1.504029  0.245044  3.032343  \n",
       "97   6.802611   3.598192   2.717292  5.662001  3.442603  2.046301  6.406387  \n",
       "98  14.256531  12.203686  12.372031  9.331101  8.691783  6.987876  8.948801  \n",
       "99   4.699199   4.954837   6.851328  3.678599  4.325447  9.287698  3.061443  \n",
       "\n",
       "[100 rows x 2700 columns]"
      ]
     },
     "execution_count": 4,
     "metadata": {},
     "output_type": "execute_result"
    }
   ],
   "source": [
    "expr_clean_ss \n",
    "df_output = pd.DataFrame(expr_clean_ss) \n",
    "df_output "
   ]
  },
  {
   "cell_type": "code",
   "execution_count": 5,
   "metadata": {},
   "outputs": [],
   "source": [
    "# save to csv\n",
    "df_output.to_csv('GeneExpression_no_perturb.csv') "
   ]
  },
  {
   "cell_type": "markdown",
   "metadata": {},
   "source": [
    "# Add technical noise"
   ]
  },
  {
   "cell_type": "code",
   "execution_count": 6,
   "metadata": {
    "tags": []
   },
   "outputs": [],
   "source": [
    "\"\"\"\n",
    "Add outlier genes\n",
    "\"\"\"\n",
    "expr_O = sim.outlier_effect(expr, outlier_prob = 0.01, mean = 0.8, scale = 1)\n",
    "\n",
    "\"\"\"\n",
    "Add Library Size Effect\n",
    "\"\"\"\n",
    "libFactor, expr_O_L = sim.lib_size_effect(expr_O, mean = 4.6, scale = 0.4)\n",
    "\n",
    "\"\"\"\n",
    "Add Dropouts\n",
    "\"\"\"\n",
    "binary_ind = sim.dropout_indicator(expr_O_L, shape = 6.5, percentile = 82)\n",
    "expr_O_L_D = np.multiply(binary_ind, expr_O_L)\n",
    "\n",
    "\"\"\"\n",
    "Convert to UMI count\n",
    "\"\"\"\n",
    "count_matrix = sim.convert_to_UMIcounts(expr_O_L_D)\n",
    "\n",
    "\"\"\"\n",
    "Make a 2d gene expression matrix\n",
    "\"\"\"\n",
    "count_matrix = np.concatenate(count_matrix, axis = 1)"
   ]
  },
  {
   "cell_type": "code",
   "execution_count": 7,
   "metadata": {},
   "outputs": [
    {
     "data": {
      "text/plain": [
       "array([[ 5,  3, 20, ...,  1,  1, 10],\n",
       "       [ 1,  3,  4, ...,  0,  0,  2],\n",
       "       [ 2,  0,  1, ...,  1,  1,  1],\n",
       "       [ 2,  6,  0, ...,  0,  3,  1]])"
      ]
     },
     "execution_count": 7,
     "metadata": {},
     "output_type": "execute_result"
    }
   ],
   "source": [
    "count_matrix = sim.convert_to_UMIcounts(expr_O)\n",
    "expr_tech_ss_O = np.concatenate(count_matrix, axis = 1)\n",
    "expr_tech_ss_O[1:5]"
   ]
  },
  {
   "cell_type": "code",
   "execution_count": 8,
   "metadata": {},
   "outputs": [
    {
     "data": {
      "text/plain": [
       "array([[1, 1, 2, ..., 2, 0, 1],\n",
       "       [2, 0, 0, ..., 2, 0, 3],\n",
       "       [1, 0, 0, ..., 0, 1, 0],\n",
       "       [1, 2, 0, ..., 0, 2, 0]])"
      ]
     },
     "execution_count": 8,
     "metadata": {},
     "output_type": "execute_result"
    }
   ],
   "source": [
    "count_matrix = sim.convert_to_UMIcounts(expr_O_L)\n",
    "expr_tech_ss_O_L = np.concatenate(count_matrix, axis = 1)\n",
    "expr_tech_ss_O_L[1:5]"
   ]
  },
  {
   "cell_type": "code",
   "execution_count": 9,
   "metadata": {},
   "outputs": [
    {
     "data": {
      "text/plain": [
       "array([[0, 0, 0, ..., 0, 0, 0],\n",
       "       [0, 0, 0, ..., 0, 0, 0],\n",
       "       [0, 0, 0, ..., 0, 0, 0],\n",
       "       [0, 0, 0, ..., 0, 1, 0]])"
      ]
     },
     "execution_count": 9,
     "metadata": {},
     "output_type": "execute_result"
    }
   ],
   "source": [
    "count_matrix = sim.convert_to_UMIcounts(expr_O_L_D)\n",
    "expr_tech_ss_O_L_D = np.concatenate(count_matrix, axis = 1)\n",
    "expr_tech_ss_O_L_D[1:5]"
   ]
  },
  {
   "cell_type": "code",
   "execution_count": 10,
   "metadata": {},
   "outputs": [],
   "source": [
    "df_output = pd.DataFrame(expr_tech_ss_O) \n",
    "df_output.to_csv('GeneExpression_no_perturb_tech_O.csv') "
   ]
  },
  {
   "cell_type": "code",
   "execution_count": 11,
   "metadata": {},
   "outputs": [],
   "source": [
    "df_output = pd.DataFrame(expr_tech_ss_O_L_D) \n",
    "df_output.to_csv('GeneExpression_no_perturb_tech_O_L_D.csv') "
   ]
  },
  {
   "cell_type": "code",
   "execution_count": 12,
   "metadata": {},
   "outputs": [],
   "source": [
    "df_output = pd.DataFrame(expr_tech_ss_O_L) \n",
    "df_output.to_csv('GeneExpression_no_perturb_tech_O_L.csv') "
   ]
  },
  {
   "cell_type": "code",
   "execution_count": null,
   "metadata": {},
   "outputs": [],
   "source": []
  },
  {
   "cell_type": "code",
   "execution_count": null,
   "metadata": {},
   "outputs": [],
   "source": []
  },
  {
   "cell_type": "code",
   "execution_count": null,
   "metadata": {},
   "outputs": [],
   "source": []
  }
 ],
 "metadata": {
  "kernelspec": {
   "display_name": "Python 3 (ipykernel)",
   "language": "python",
   "name": "python3"
  },
  "language_info": {
   "codemirror_mode": {
    "name": "ipython",
    "version": 3
   },
   "file_extension": ".py",
   "mimetype": "text/x-python",
   "name": "python",
   "nbconvert_exporter": "python",
   "pygments_lexer": "ipython3",
   "version": "3.10.5"
  }
 },
 "nbformat": 4,
 "nbformat_minor": 4
}

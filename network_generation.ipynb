{
 "cells": [
  {
   "cell_type": "code",
   "execution_count": null,
   "id": "4ea50f09-4c2e-46d0-a2cf-5590eb7755a4",
   "metadata": {},
   "outputs": [],
   "source": [
    "def regnet_parser(regfile):\n",
    "    targets = {}\n",
    "    regulators = []\n",
    "    for line in open(regfile):\n",
    "        if line[0] == '#':\n",
    "            pass\n",
    "        if line[0] != ' ' and line[-1] == '*':\n",
    "            regulators.append(line[:-1])\n",
    "        else:\n",
    "            targets[regulators[-1]] = parse_targets(line)\n",
    "\n",
    "def parse_targets(line):\n",
    "    for dir_target_reg in line.strip().split():\n",
    "        if "
   ]
  },
  {
   "cell_type": "markdown",
   "id": "0475f195-a2a5-4658-94d9-0a17b24a022c",
   "metadata": {},
   "source": [
    "$$\\theta = \\frac{[L]^n}{K_d + [L]^n}$$"
   ]
  },
  {
   "cell_type": "markdown",
   "id": "dbaa4b5e-3a13-46f3-8a31-c05eee794b23",
   "metadata": {},
   "source": [
    "$$\\theta = \\frac{1}{1+ \\left(\\frac{K_A}{[L]}\\right)^n}$$"
   ]
  },
  {
   "cell_type": "markdown",
   "id": "89144e52-8781-4719-9a45-ace5dc68c267",
   "metadata": {},
   "source": [
    "$$\\frac{1}{\\theta} = 1+ \\left(\\frac{K_A}{[L]}\\right)^n$$"
   ]
  },
  {
   "cell_type": "markdown",
   "id": "51343bb2-f0f4-4746-8f28-25f01286575b",
   "metadata": {},
   "source": [
    "$$\\frac{1}{\\theta} -1 = \\left(\\frac{K_A}{[L]}\\right)^n$$"
   ]
  },
  {
   "cell_type": "markdown",
   "id": "878af5ae-29d4-49fa-bd2f-a6dd226f99cd",
   "metadata": {},
   "source": [
    "$$\\frac{1}{\\theta} -\\frac{\\theta}{\\theta} = \\left(\\frac{K_A}{[L]}\\right)^n$$"
   ]
  },
  {
   "cell_type": "markdown",
   "id": "375bb3f0-39a5-4a71-81cd-8293450a7246",
   "metadata": {},
   "source": [
    "$$\\frac{1-\\theta}{\\theta} = \\left(\\frac{K_A}{[L]}\\right)^n$$"
   ]
  },
  {
   "cell_type": "markdown",
   "id": "3c58bc92-f7e6-416d-bb54-166668f807ae",
   "metadata": {},
   "source": [
    "$$\\frac{\\theta}{1 -\\theta} = \\left(\\frac{[L]}{K_A}\\right)^n$$"
   ]
  },
  {
   "cell_type": "markdown",
   "id": "47520b71-c7ef-415e-aa14-1d75af4e95d7",
   "metadata": {},
   "source": [
    "$$\\log\\left(\\frac{\\theta}{1-\\theta}\\right) = \\log\\left(\\left(\\frac{[L]}{K_A}\\right)^n\\right)$$"
   ]
  },
  {
   "cell_type": "markdown",
   "id": "3baac61d-6e6c-47dd-9bdd-647fd68679fa",
   "metadata": {},
   "source": [
    "$$\\log\\left(\\frac{\\theta}{1-\\theta}\\right) = n\\log [L] - n \\log K_A$$"
   ]
  },
  {
   "cell_type": "markdown",
   "id": "9e98b5fc-59b0-4984-99f1-90806d798a0c",
   "metadata": {},
   "source": [
    "$$p_{ij} = K_{ij}\\frac{x_j^{n_{ij}}}{h_{ij}^{n_{ij}} + x_j^{n_{ij}}}$$"
   ]
  },
  {
   "cell_type": "markdown",
   "id": "3fe59676-3ec9-4176-8120-3163a2a75866",
   "metadata": {},
   "source": [
    "$$\\frac{1}{p_{ij}} - \\frac{h_{ij}^{n_{ij}}}{K_{ij}(x_j^{n_{ij}})} = \\frac{ x_j^{n_{ij}}}{K_{ij}(x_j^{n_{ij}})}$$"
   ]
  },
  {
   "cell_type": "markdown",
   "id": "bfe7c9fd-bb60-4607-a3ce-b39e75f90906",
   "metadata": {},
   "source": [
    "$$\\frac{1}{p_{ij}}"
   ]
  },
  {
   "cell_type": "code",
   "execution_count": null,
   "id": "c5e49ef1-9cc5-4d17-ab24-5092b5bb51b9",
   "metadata": {},
   "outputs": [],
   "source": []
  },
  {
   "cell_type": "code",
   "execution_count": null,
   "id": "9ec99203-a7ce-4673-93fe-1b522c2f3040",
   "metadata": {},
   "outputs": [],
   "source": []
  },
  {
   "cell_type": "code",
   "execution_count": null,
   "id": "4439e0a0-c1ef-49eb-9e21-b988769e95d9",
   "metadata": {},
   "outputs": [],
   "source": [
    "!pip install git+https://github.com/huggingface/transformers"
   ]
  },
  {
   "cell_type": "code",
   "execution_count": 20,
   "id": "3be10a53-4bea-4d74-806f-abc1cf9abefc",
   "metadata": {},
   "outputs": [
    {
     "data": {
      "text/markdown": [
       "|Entity | Individuals responsibility | Government's responsibility |\n",
       "|----|----|----|\n",
       "| MEDIAN | 39.0 | 55.0 |\n",
       "| Germany | nan | 35.0 |\n",
       "| UK | 45.0 | 49.0 |\n",
       "| Sweden | 37.0 | 53.0 |\n",
       "| Denmark | 42.0 | 54.0 |\n",
       "| France | 38.0 | 55.0 |\n",
       "| Netherla nns | 40.0 | 58.0 |\n",
       "| Spain | 29.0 | 63.0 |\n",
       "| Italy | 22.0 | 74.0|"
      ],
      "text/plain": [
       "<IPython.core.display.Markdown object>"
      ]
     },
     "execution_count": 20,
     "metadata": {},
     "output_type": "execute_result"
    }
   ],
   "source": [
    "from transformers import AutoProcessor, Pix2StructForConditionalGeneration\n",
    "import requests\n",
    "from PIL import Image\n",
    "from IPython.display import Markdown\n",
    "\n",
    "def delim(row, column_delimiter=\"|\"):\n",
    "    return column_delimiter + row + column_delimiter\n",
    "    \n",
    "def process_table(table, row_delimiter=\"<0x0A>\", column_delimiter=\"|\"):\n",
    "    rows = table.split(row_delimiter)\n",
    "    header_row = column_delimiter.join(['----' for _ in rows[0].split(column_delimiter)])\n",
    "    new_table =  [delim(rows[0])] + [delim(header_row)] + [delim(row) for row in rows[1:]]\n",
    "    return '\\n'.join(new_table)\n",
    "    \n",
    "def deplot(url):\n",
    "    model = Pix2StructForConditionalGeneration.from_pretrained(\"google/deplot\")\n",
    "    processor = AutoProcessor.from_pretrained(\"google/deplot\")\n",
    "\n",
    "    image = Image.open(requests.get(url, stream=True).raw)\n",
    "\n",
    "    inputs = processor(images=image, text=\"Generate underlying data table of the figure below:\", return_tensors=\"pt\")\n",
    "    predictions = model.generate(**inputs, max_new_tokens=512)\n",
    "    return process_table(processor.decode(predictions[0], skip_special_tokens=True))\n",
    "url = \"https://raw.githubusercontent.com/vis-nlp/ChartQA/main/ChartQA%20Dataset/val/png/5090.png\"\n",
    "table = deplot(url)\n",
    "Markdown(table)"
   ]
  },
  {
   "cell_type": "code",
   "execution_count": 22,
   "id": "31b20bab-a1a2-4a75-800c-e06b9607db8c",
   "metadata": {},
   "outputs": [
    {
     "name": "stdout",
     "output_type": "stream",
     "text": [
      "|Entity | Individuals responsibility | Government's responsibility |\n",
      "|----|----|----|\n",
      "| MEDIAN | 39.0 | 55.0 |\n",
      "| Germany | nan | 35.0 |\n",
      "| UK | 45.0 | 49.0 |\n",
      "| Sweden | 37.0 | 53.0 |\n",
      "| Denmark | 42.0 | 54.0 |\n",
      "| France | 38.0 | 55.0 |\n",
      "| Netherla nns | 40.0 | 58.0 |\n",
      "| Spain | 29.0 | 63.0 |\n",
      "| Italy | 22.0 | 74.0|\n"
     ]
    }
   ],
   "source": [
    "print(table)\n"
   ]
  },
  {
   "cell_type": "markdown",
   "id": "cfde5384-d8a1-4509-848d-2de1ac380cce",
   "metadata": {},
   "source": [
    "|Entity | Individuals responsibility | Government's responsibility |\n",
    "| -----|----------------------------|-------------------------------|\n",
    "|MEDIAN | 39.0 | 55.0 |\n",
    "|Germany | nan | 35.0 |\n",
    "|UK | 45.0 | 49.0 |\n",
    "|Sweden | 37.0 | 53.0 |\n",
    "|Denmark | 42.0 | 54.0 |\n",
    "|France | 38.0 | 55.0 |\n",
    "|Netherla nns | 40.0 | 58.0 |\n",
    "|Spain | 29.0 | 63.0 |\n",
    "|Italy | 22.0 | 74.0"
   ]
  }
 ],
 "metadata": {
  "kernelspec": {
   "display_name": "ought-ice",
   "language": "python",
   "name": "ought-ice"
  },
  "language_info": {
   "codemirror_mode": {
    "name": "ipython",
    "version": 3
   },
   "file_extension": ".py",
   "mimetype": "text/x-python",
   "name": "python",
   "nbconvert_exporter": "python",
   "pygments_lexer": "ipython3",
   "version": "3.10.9"
  }
 },
 "nbformat": 4,
 "nbformat_minor": 5
}
